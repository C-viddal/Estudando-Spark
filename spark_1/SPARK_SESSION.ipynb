{
 "cells": [
  {
   "cell_type": "code",
   "execution_count": 1,
   "id": "90d7bd82",
   "metadata": {},
   "outputs": [],
   "source": [
    "import findspark\n",
    "findspark.init()"
   ]
  },
  {
   "cell_type": "code",
   "execution_count": 3,
   "id": "43122554",
   "metadata": {},
   "outputs": [],
   "source": [
    "#criar spark session\n",
    "\n",
    "from pyspark.sql import SparkSession\n",
    "spark=SparkSession.builder\\\n",
    "        .master ('local')\\\n",
    "        .appName('Estudando PySpark')\\\n",
    "        .getOrCreate()"
   ]
  },
  {
   "cell_type": "code",
   "execution_count": 23,
   "id": "d6f7c672",
   "metadata": {},
   "outputs": [],
   "source": [
    "# Criando dataframe a partir de um CSV\n",
    "\n",
    "\n",
    "df = spark.read.options(header=True, InferSchema='True' , delimiter=',').csv('movies.csv')\n"
   ]
  },
  {
   "cell_type": "code",
   "execution_count": 25,
   "id": "d8b69ee4",
   "metadata": {},
   "outputs": [
    {
     "name": "stdout",
     "output_type": "stream",
     "text": [
      "+--------------------+---------+--------------------+----------------+-------------+-----------------+---------------+----+\n",
      "|                Film|    Genre|         Lead Studio|Audience score %|Profitability|Rotten Tomatoes %|Worldwide Gross|Year|\n",
      "+--------------------+---------+--------------------+----------------+-------------+-----------------+---------------+----+\n",
      "|Zack and Miri Mak...|  Romance|The Weinstein Com...|              70|  1.747541667|               64|        $41.94 |2008|\n",
      "|     Youth in Revolt|   Comedy|The Weinstein Com...|              52|         1.09|               68|        $19.62 |2010|\n",
      "|You Will Meet a T...|   Comedy|         Independent|              35|  1.211818182|               43|        $26.66 |2010|\n",
      "|        When in Rome|   Comedy|              Disney|              44|          0.0|               15|        $43.04 |2010|\n",
      "|What Happens in V...|   Comedy|                 Fox|              72|  6.267647029|               28|       $219.37 |2008|\n",
      "| Water For Elephants|    Drama|    20th Century Fox|              72|  3.081421053|               60|       $117.09 |2011|\n",
      "|              WALL-E|Animation|              Disney|              89|  2.896019067|               96|       $521.28 |2008|\n",
      "|            Waitress|  Romance|         Independent|              67|   11.0897415|               89|        $22.18 |2007|\n",
      "| Waiting For Forever|  Romance|         Independent|              53|        0.005|                6|         $0.03 |2011|\n",
      "|     Valentine's Day|   Comedy|        Warner Bros.|              54|  4.184038462|               17|       $217.57 |2010|\n",
      "|Tyler Perry's Why...|  Romance|         Independent|              47|    3.7241924|               46|        $55.86 |2007|\n",
      "|Twilight: Breakin...|  Romance|         Independent|              68|  6.383363636|               26|       $702.17 |2011|\n",
      "|            Twilight|  Romance|              Summit|              82|  10.18002703|               49|       $376.66 |2008|\n",
      "|      The Ugly Truth|   Comedy|         Independent|              68|  5.402631579|               14|       $205.30 |2009|\n",
      "|The Twilight Saga...|    Drama|              Summit|              78|      14.1964|               27|       $709.82 |2009|\n",
      "|The Time Traveler...|    Drama|           Paramount|              65|  2.598205128|               38|       $101.33 |2009|\n",
      "|        The Proposal|   Comedy|              Disney|              74|       7.8675|               43|       $314.70 |2009|\n",
      "|The Invention of ...|   Comedy|        Warner Bros.|              47|  1.751351351|               56|        $32.40 |2009|\n",
      "|  The Heartbreak Kid|   Comedy|           Paramount|              41|  2.129444167|               30|       $127.77 |2007|\n",
      "|         The Duchess|    Drama|           Paramount|              68|  3.207850222|               60|        $43.31 |2008|\n",
      "+--------------------+---------+--------------------+----------------+-------------+-----------------+---------------+----+\n",
      "only showing top 20 rows\n",
      "\n"
     ]
    }
   ],
   "source": [
    "df.show()"
   ]
  },
  {
   "cell_type": "code",
   "execution_count": 26,
   "id": "e8416f47",
   "metadata": {},
   "outputs": [
    {
     "name": "stdout",
     "output_type": "stream",
     "text": [
      "root\n",
      " |-- Film: string (nullable = true)\n",
      " |-- Genre: string (nullable = true)\n",
      " |-- Lead Studio: string (nullable = true)\n",
      " |-- Audience score %: integer (nullable = true)\n",
      " |-- Profitability: double (nullable = true)\n",
      " |-- Rotten Tomatoes %: integer (nullable = true)\n",
      " |-- Worldwide Gross: string (nullable = true)\n",
      " |-- Year: integer (nullable = true)\n",
      "\n"
     ]
    }
   ],
   "source": [
    "df.printSchema()"
   ]
  },
  {
   "cell_type": "code",
   "execution_count": 30,
   "id": "efa2e2a4",
   "metadata": {},
   "outputs": [],
   "source": [
    "#selecionando colunas\n",
    "\n",
    "dfmovie= df.select('Film', 'Genre', 'Audience score %', 'Year')"
   ]
  },
  {
   "cell_type": "code",
   "execution_count": 31,
   "id": "299541d4",
   "metadata": {
    "scrolled": true
   },
   "outputs": [
    {
     "name": "stdout",
     "output_type": "stream",
     "text": [
      "+--------------------+---------+----------------+----+\n",
      "|                Film|    Genre|Audience score %|Year|\n",
      "+--------------------+---------+----------------+----+\n",
      "|Zack and Miri Mak...|  Romance|              70|2008|\n",
      "|     Youth in Revolt|   Comedy|              52|2010|\n",
      "|You Will Meet a T...|   Comedy|              35|2010|\n",
      "|        When in Rome|   Comedy|              44|2010|\n",
      "|What Happens in V...|   Comedy|              72|2008|\n",
      "| Water For Elephants|    Drama|              72|2011|\n",
      "|              WALL-E|Animation|              89|2008|\n",
      "|            Waitress|  Romance|              67|2007|\n",
      "| Waiting For Forever|  Romance|              53|2011|\n",
      "|     Valentine's Day|   Comedy|              54|2010|\n",
      "|Tyler Perry's Why...|  Romance|              47|2007|\n",
      "|Twilight: Breakin...|  Romance|              68|2011|\n",
      "|            Twilight|  Romance|              82|2008|\n",
      "|      The Ugly Truth|   Comedy|              68|2009|\n",
      "|The Twilight Saga...|    Drama|              78|2009|\n",
      "|The Time Traveler...|    Drama|              65|2009|\n",
      "|        The Proposal|   Comedy|              74|2009|\n",
      "|The Invention of ...|   Comedy|              47|2009|\n",
      "|  The Heartbreak Kid|   Comedy|              41|2007|\n",
      "|         The Duchess|    Drama|              68|2008|\n",
      "+--------------------+---------+----------------+----+\n",
      "only showing top 20 rows\n",
      "\n"
     ]
    }
   ],
   "source": [
    "dfmovie.show()"
   ]
  },
  {
   "cell_type": "code",
   "execution_count": 33,
   "id": "4a952b72",
   "metadata": {},
   "outputs": [
    {
     "name": "stdout",
     "output_type": "stream",
     "text": [
      "+--------------------+---------+----------------+----+\n",
      "|                Film|    Genre|Audience score %|Year|\n",
      "+--------------------+---------+----------------+----+\n",
      "| Water For Elephants|    Drama|              72|2011|\n",
      "| Waiting For Forever|  Romance|              53|2011|\n",
      "|Twilight: Breakin...|  Romance|              68|2011|\n",
      "|  Something Borrowed|  Romance|              48|2011|\n",
      "|             One Day|  Romance|              54|2011|\n",
      "|      New Year's Eve|  Romance|              48|2011|\n",
      "|My Week with Marilyn|    Drama|              84|2011|\n",
      "|         Monte Carlo|  Romance|              50|2011|\n",
      "|   Midnight in Paris|  Romence|              84|2011|\n",
      "|           Jane Eyre|  Romance|              77|2011|\n",
      "|   Gnomeo and Juliet|Animation|              52|2011|\n",
      "|   Gnomeo and Juliet|Animation|              52|2011|\n",
      "|           Beginners|   Comedy|              80|2011|\n",
      "|  A Dangerous Method|    Drama|              89|2011|\n",
      "+--------------------+---------+----------------+----+\n",
      "\n"
     ]
    }
   ],
   "source": [
    "#filtrando\n",
    "\n",
    "dfmovie.filter(dfmovie.Year > 2010).show()"
   ]
  },
  {
   "cell_type": "code",
   "execution_count": 38,
   "id": "f106db65",
   "metadata": {},
   "outputs": [
    {
     "name": "stdout",
     "output_type": "stream",
     "text": [
      "+------------------+\n",
      "|Max Audience Score|\n",
      "+------------------+\n",
      "|                89|\n",
      "+------------------+\n",
      "\n"
     ]
    }
   ],
   "source": [
    "#filtrando maior nota\n",
    "\n",
    "from pyspark.sql.functions import max\n",
    "df_max = df.agg(max('Audience score %').alias('Max Audience Score')).show()\n"
   ]
  }
 ],
 "metadata": {
  "kernelspec": {
   "display_name": "Python 3 (ipykernel)",
   "language": "python",
   "name": "python3"
  },
  "language_info": {
   "codemirror_mode": {
    "name": "ipython",
    "version": 3
   },
   "file_extension": ".py",
   "mimetype": "text/x-python",
   "name": "python",
   "nbconvert_exporter": "python",
   "pygments_lexer": "ipython3",
   "version": "3.9.13"
  }
 },
 "nbformat": 4,
 "nbformat_minor": 5
}
